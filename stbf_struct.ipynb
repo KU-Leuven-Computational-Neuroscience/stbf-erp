{
 "cells": [
  {
   "cell_type": "code",
   "execution_count": 12,
   "metadata": {
    "collapsed": true
   },
   "outputs": [
    {
     "name": "stdout",
     "output_type": "stream",
     "text": [
      "Reading /data/mne_data/derivatives/mne-bids-pipeline/STBF-ERP_CORE/sub-002/ses-P3/eeg/sub-002_ses-P3_task-P3_proc-clean_epo.fif ...\n",
      "    Found the data of interest:\n",
      "        t =    -203.12 ...    1000.00 ms\n",
      "        0 CTF compensation matrices available\n",
      "Adding metadata with 28 columns\n",
      "200 matching events found\n",
      "No baseline correction applied\n",
      "0 projection items activated\n"
     ]
    }
   ],
   "source": [
    "import os\n",
    "import mne\n",
    "from mne_bids import BIDSPath\n",
    "\n",
    "bids_root = os.path.join(mne.get_config('MNE_DATA'), 'derivatives', 'mne-bids-pipeline', 'STBF-ERP_CORE')\n",
    "path = BIDSPath(root=bids_root, subject='002', task='P3', datatype='eeg', processing='clean', suffix='epo', check=False)\n",
    "epochs = mne.read_epochs(path.match()[0])\n",
    "epochs.metadata['label'] = epochs.metadata['event_name'].str.startswith('stimulus/target')"
   ]
  },
  {
   "cell_type": "code",
   "execution_count": 13,
   "outputs": [
    {
     "name": "stderr",
     "output_type": "stream",
     "text": [
      "/tmp/ipykernel_68794/1285858729.py:2: RuntimeWarning: The measurement information indicates a low-pass frequency of 16 Hz. The decim=2 parameter will result in a sampling frequency of 32 Hz, which can cause aliasing artifacts.\n",
      "  epochs.decimate(2)\n"
     ]
    },
    {
     "data": {
      "text/plain": "<EpochsFIF |  200 events (all good), 0.09375 - 0.59375 sec, baseline off, ~846 kB, data loaded, with metadata,\n 'stimulus/non-target/12': 8\n 'stimulus/non-target/13': 5\n 'stimulus/non-target/14': 8\n 'stimulus/non-target/15': 11\n 'stimulus/non-target/21': 5\n 'stimulus/non-target/23': 9\n 'stimulus/non-target/24': 7\n 'stimulus/non-target/25': 11\n 'stimulus/non-target/31': 4\n 'stimulus/non-target/32': 9\n and 15 more events ...>",
      "text/html": "\n<table class=\"table table-hover table-striped table-sm table-responsive small\">\n    <tr>\n        <th>Number of events</th>\n        <td>200</td>\n    </tr>\n    <tr>\n        <th>Events</th>\n        <td>stimulus/non-target/12: 8<br>stimulus/non-target/13: 5<br>stimulus/non-target/14: 8<br>stimulus/non-target/15: 11<br>stimulus/non-target/21: 5<br>stimulus/non-target/23: 9<br>stimulus/non-target/24: 7<br>stimulus/non-target/25: 11<br>stimulus/non-target/31: 4<br>stimulus/non-target/32: 9<br>stimulus/non-target/34: 9<br>stimulus/non-target/35: 10<br>stimulus/non-target/41: 11<br>stimulus/non-target/42: 5<br>stimulus/non-target/43: 4<br>stimulus/non-target/45: 12<br>stimulus/non-target/51: 16<br>stimulus/non-target/52: 5<br>stimulus/non-target/53: 7<br>stimulus/non-target/54: 4<br>stimulus/target/11: 8<br>stimulus/target/22: 8<br>stimulus/target/33: 8<br>stimulus/target/44: 8<br>stimulus/target/55: 8<br></td>\n    </tr>\n    <tr>\n        <th>Time range</th>\n        <td>0.094 – 0.594 sec</td>\n    </tr>\n    <tr>\n        <th>Baseline</th>\n        <td>off</td>\n    </tr>\n</table>\n"
     },
     "execution_count": 13,
     "metadata": {},
     "output_type": "execute_result"
    }
   ],
   "source": [
    "epochs.drop_channels(['P9', 'P10'])\n",
    "epochs.decimate(2)\n",
    "epochs.crop(tmin=0.1, tmax=0.6)\n",
    "epochs.reorder_channels([\n",
    "    'FP1', 'FP2',\n",
    "    'F3', 'F7', 'Fz', 'F4', 'F8',\n",
    "    'FC3', 'FCz', 'FC4',\n",
    "    'C3', 'C5', 'Cz', 'C4', 'C6',\n",
    "    'CPz',\n",
    "    'P3', 'P7', 'Pz', 'P4', 'P8',\n",
    "    'PO7', 'PO3', 'PO8', 'PO4',\n",
    "    'O1', 'Oz', 'O2',\n",
    "    'HEOG', 'VEOG',\n",
    "])\n",
    "epochs.pick_types(eeg=True, eog=True)"
   ],
   "metadata": {
    "collapsed": false,
    "pycharm": {
     "name": "#%%\n"
    }
   }
  },
  {
   "cell_type": "code",
   "execution_count": 14,
   "outputs": [],
   "source": [
    "X_train = epochs[:100].get_data()\n",
    "y_train = epochs.metadata['label'][:100].values\n",
    "\n",
    "X_test = epochs[100:].get_data()\n",
    "y_test = epochs.metadata['label'][100:].values"
   ],
   "metadata": {
    "collapsed": false,
    "pycharm": {
     "name": "#%%\n"
    }
   }
  },
  {
   "cell_type": "code",
   "execution_count": 15,
   "outputs": [],
   "source": [
    "from decode.classifier import UnitVarianceChannelScaler\n",
    "\n",
    "scaler = UnitVarianceChannelScaler()\n",
    "X_train = scaler.fit_transform(X_train)\n",
    "X_test = scaler.transform(X_test)"
   ],
   "metadata": {
    "collapsed": false,
    "pycharm": {
     "name": "#%%\n"
    }
   }
  },
  {
   "cell_type": "code",
   "execution_count": 16,
   "outputs": [
    {
     "name": "stdout",
     "output_type": "stream",
     "text": [
      "Iteration 1  step: 465.25020001864056\n",
      "Iteration 2  step: 237.58960544560486\n",
      "Iteration 3  step: 218.48433063976694\n",
      "Iteration 4  step: 90.67705126581878\n",
      "Iteration 5  step: 75.0537428535115\n",
      "Iteration 6  step: 35.83759688801077\n",
      "Iteration 7  step: 27.000833450846912\n",
      "Iteration 8  step: 14.432342625659622\n",
      "Iteration 9  step: 10.210473400735955\n",
      "Iteration 10  step: 5.8620744155682\n",
      "Iteration 11  step: 3.9864833427271593\n",
      "Iteration 12  step: 2.396072318349641\n",
      "Iteration 13  step: 1.5895518907282824\n",
      "Iteration 14  step: 0.9870721808319509\n",
      "Iteration 15  step: 0.6449653394993319\n",
      "Iteration 16  step: 0.4123333674232392\n",
      "Iteration 17  step: 0.26748646683324256\n",
      "Iteration 18  step: 0.17711111968151164\n",
      "Iteration 19  step: 0.11517873957669533\n",
      "Iteration 20  step: 0.080176654372478\n",
      "Iteration 21  step: 0.05297246728070874\n",
      "Iteration 22  step: 0.039384999759337055\n",
      "Iteration 23  step: 0.026772200519882477\n",
      "Iteration 24  step: 0.02125908274217484\n",
      "Iteration 25  step: 0.014906695670344755\n",
      "Iteration 26  step: 0.012398875995306312\n",
      "Iteration 27  step: 0.008901580666676921\n",
      "Iteration 28  step: 0.007583934334788893\n",
      "Iteration 29  step: 0.005523644033130951\n",
      "Iteration 30  step: 0.004752577957364452\n",
      "Iteration 31  step: 0.0034891235877002095\n",
      "Iteration 32  step: 0.003011803738209664\n",
      "Iteration 33  step: 0.0022206943520736645\n",
      "Iteration 34  step: 0.0019181875881735069\n",
      "Iteration 35  step: 0.0014177131830326786\n",
      "Iteration 36  step: 0.001224388484686821\n",
      "Iteration 37  step: 0.0009061613836940135\n",
      "Iteration 38  step: 0.0007823193208911073\n",
      "Iteration 39  step: 0.0005794498703490964\n",
      "Iteration 40  step: 0.000500095881302885\n",
      "Iteration 41  step: 0.0003705893966476276\n",
      "Iteration 42  step: 0.00031975867378255217\n",
      "Iteration 43  step: 0.00023702250848660144\n",
      "Iteration 44  step: 0.00020447609775331546\n",
      "Iteration 45  step: 0.00015159648915619799\n",
      "Iteration 46  step: 0.0001307646266409726\n",
      "Iteration 47  step: 9.695868071533675e-05\n",
      "Iteration 48  step: 8.362833967501281e-05\n",
      "Iteration 49  step: 6.201280601607604e-05\n",
      "Iteration 50  step: 5.3484222913663214e-05\n",
      "Iteration 51  step: 3.96619062700181e-05\n",
      "Iteration 52  step: 3.420608080651811e-05\n",
      "Iteration 53  step: 2.5366697507860705e-05\n",
      "Iteration 54  step: 2.1876823364138258e-05\n",
      "Iteration 55  step: 1.6223814814124945e-05\n",
      "Iteration 56  step: 1.399159616226183e-05\n",
      "Iteration 57  step: 1.0376267449497826e-05\n",
      "Iteration 58  step: 8.948527111754172e-06\n",
      "Iteration 59  step: 6.6363420173355205e-06\n",
      "Iteration 60  step: 5.723170339321616e-06\n",
      "Iteration 61  step: 4.244396907371701e-06\n",
      "Iteration 62  step: 3.66034740784743e-06\n",
      "Iteration 63  step: 2.714582045616808e-06\n",
      "Iteration 64  step: 2.3410369503284134e-06\n",
      "Iteration 65  step: 1.7361602326871669e-06\n",
      "Iteration 66  step: 1.4972504410117242e-06\n",
      "Iteration 67  step: 1.110392535766501e-06\n",
      "Iteration 68  step: 9.575925769832235e-07\n",
      "Iteration 69  step: 7.101714561959075e-07\n",
      "Iteration 70  step: 6.124451241262159e-07\n",
      "Iteration 71  step: 4.542028209794789e-07\n",
      "Iteration 72  step: 3.9170002145824193e-07\n",
      "Iteration 73  step: 2.90493455233074e-07\n",
      "Iteration 74  step: 2.505186108258781e-07\n",
      "Iteration 75  step: 1.857902185283757e-07\n",
      "Iteration 76  step: 1.6022355649661938e-07\n",
      "Iteration 77  step: 1.1882541472715669e-07\n",
      "Iteration 78  step: 1.0247380904024613e-07\n",
      "Iteration 79  step: 7.599689795411816e-08\n",
      "Iteration 80  step: 6.55389061127252e-08\n",
      "Iteration 81  step: 4.860515260213121e-08\n",
      "Iteration 82  step: 4.1916558042590897e-08\n",
      "Iteration 83  step: 3.108621996154417e-08\n",
      "Iteration 84  step: 2.6808456950112715e-08\n",
      "Iteration 85  step: 1.988175323453638e-08\n",
      "Iteration 86  step: 1.7145830086904166e-08\n",
      "Iteration 87  step: 1.271572131582851e-08\n",
      "Iteration 88  step: 1.0965952577543995e-08\n",
      "Iteration 89  step: 8.132631447386688e-09\n",
      "Iteration 90  step: 7.013466057818549e-09\n",
      "Iteration 91  step: 5.20134475675772e-09\n",
      "Iteration 92  step: 4.4855947362321895e-09\n",
      "Iteration 93  step: 3.3266080739368237e-09\n",
      "Iteration 94  step: 2.868835576213952e-09\n",
      "Iteration 95  step: 2.127602660987625e-09\n",
      "Iteration 96  step: 1.834778788592193e-09\n",
      "Iteration 97  step: 1.360741695644733e-09\n",
      "Iteration 98  step: 1.173500947083525e-09\n",
      "Iteration 99  step: 8.702742314735643e-10\n",
      "Iteration 100  step: 7.5050952558622e-10\n",
      "Iteration 101  step: 5.565811937334756e-10\n",
      "Iteration 102  step: 4.799886681938546e-10\n",
      "Iteration 103  step: 3.5595512880013047e-10\n",
      "Iteration 104  step: 3.0700365562995033e-10\n",
      "Iteration 105  step: 2.276740196517004e-10\n",
      "Iteration 106  step: 1.963401111364019e-10\n",
      "Iteration 107  step: 1.4564367007030804e-10\n",
      "Iteration 108  step: 1.2558803653605815e-10\n",
      "Iteration 109  step: 9.312593078288086e-11\n",
      "Iteration 110  step: 8.030229180218564e-11\n",
      "Iteration 111  step: 5.954849375003287e-11\n",
      "Iteration 112  step: 5.136274837191594e-11\n",
      "Iteration 113  step: 3.809074735339825e-11\n",
      "Iteration 114  step: 3.2829565581364706e-11\n",
      "Iteration 115  step: 2.434202043326621e-11\n",
      "Iteration 116  step: 2.097635831868197e-11\n",
      "Iteration 117  step: 1.5542453171014654e-11\n",
      "Iteration 118  step: 1.3409097352089227e-11\n",
      "Iteration 119  step: 9.929089953900552e-12\n",
      "Iteration 120  step: 8.562622403289593e-12\n",
      "Iteration 121  step: 6.345284029951306e-12\n",
      "Iteration 122  step: 5.482059135470467e-12\n",
      "Iteration 123  step: 4.0545805674303565e-12\n",
      "Iteration 124  step: 3.4882304637871333e-12\n",
      "Iteration 125  step: 2.611523140737533e-12\n",
      "Iteration 126  step: 2.2592895902794633e-12\n",
      "Iteration 127  step: 1.7015212477216315e-12\n",
      "Iteration 128  step: 1.466018624567791e-12\n"
     ]
    },
    {
     "data": {
      "text/plain": "LCMVBeamformer(cov_estimator=KroneckerCovariance(shrinkage=('oas', 'oas'),\n                                                 spatial=EmpiricalCovariance(assume_centered=True),\n                                                 temporal=ToeplitzCovariance(),\n                                                 verbose=True))"
     },
     "execution_count": 16,
     "metadata": {},
     "output_type": "execute_result"
    }
   ],
   "source": [
    "from decode.cov import KroneckerCovariance, ToeplitzCovariance\n",
    "from decode.stbf import LCMVBeamformer\n",
    "from sklearn.covariance import EmpiricalCovariance\n",
    "\n",
    "cov_estimator = KroneckerCovariance(shrinkage=('oas', 'oas'), verbose=True, spatial=EmpiricalCovariance(), temporal=ToeplitzCovariance())\n",
    "stbf = LCMVBeamformer(cov_estimator=cov_estimator)\n",
    "stbf.fit(X_train, y_train)"
   ],
   "metadata": {
    "collapsed": false,
    "pycharm": {
     "name": "#%%\n"
    }
   }
  },
  {
   "cell_type": "code",
   "execution_count": 17,
   "outputs": [
    {
     "data": {
      "text/plain": "<Figure size 460.8x288 with 4 Axes>",
      "image/png": "[encoded data removed]"
     },
     "metadata": {
      "needs_background": "light"
     },
     "output_type": "display_data"
    }
   ],
   "source": [
    "ap = mne.EvokedArray(stbf.lead_field_, epochs.info, epochs.tmin)\n",
    "ap.plot_image(units=dict(eeg='', eog=''), scalings=dict(eeg=1, eog=1));"
   ],
   "metadata": {
    "collapsed": false,
    "pycharm": {
     "name": "#%%\n"
    }
   }
  },
  {
   "cell_type": "code",
   "execution_count": 18,
   "outputs": [
    {
     "data": {
      "text/plain": "<Figure size 432x288 with 4 Axes>",
      "image/png": "[encoded data removed]"
     },
     "metadata": {
      "needs_background": "light"
     },
     "output_type": "display_data"
    }
   ],
   "source": [
    "from util.viz import plot_cov\n",
    "import seaborn as sns\n",
    "import matplotlib.pyplot as plt\n",
    "\n",
    "_, axs = plt.subplots(1, 2)\n",
    "plot_cov(stbf.cov_estimator_.spatial_.covariance_, ax=axs[0])\n",
    "plot_cov(stbf.cov_estimator_.temporal_.covariance_, ax=axs[1]);"
   ],
   "metadata": {
    "collapsed": false,
    "pycharm": {
     "name": "#%%\n"
    }
   }
  },
  {
   "cell_type": "code",
   "execution_count": 19,
   "outputs": [
    {
     "data": {
      "text/plain": "<Figure size 432x288 with 4 Axes>",
      "image/png": "[encoded data removed]"
     },
     "metadata": {
      "needs_background": "light"
     },
     "output_type": "display_data"
    }
   ],
   "source": [
    "_, axs = plt.subplots(1, 2)\n",
    "plot_cov(stbf.cov_estimator_.spatial_.precision_, ax=axs[0])\n",
    "plot_cov(stbf.cov_estimator_.temporal_.precision_, ax=axs[1]);"
   ],
   "metadata": {
    "collapsed": false,
    "pycharm": {
     "name": "#%%\n"
    }
   }
  },
  {
   "cell_type": "code",
   "execution_count": 20,
   "outputs": [
    {
     "data": {
      "text/plain": "<Figure size 460.8x288 with 4 Axes>",
      "image/png": "[encoded data removed]"
     },
     "metadata": {
      "needs_background": "light"
     },
     "output_type": "display_data"
    }
   ],
   "source": [
    "weights = mne.EvokedArray(stbf.weights_, epochs.info, epochs.tmin)\n",
    "weights.plot_image(units=dict(eeg='', eog=''), scalings=dict(eeg=1, eog=1), cmap='PuOr');"
   ],
   "metadata": {
    "collapsed": false,
    "pycharm": {
     "name": "#%%\n"
    }
   }
  },
  {
   "cell_type": "code",
   "execution_count": 21,
   "outputs": [
    {
     "data": {
      "text/plain": "<AxesSubplot:>"
     },
     "execution_count": 21,
     "metadata": {},
     "output_type": "execute_result"
    },
    {
     "data": {
      "text/plain": "<Figure size 432x288 with 1 Axes>",
      "image/png": "[encoded data removed]"
     },
     "metadata": {
      "needs_background": "light"
     },
     "output_type": "display_data"
    }
   ],
   "source": [
    "import seaborn as sns\n",
    "\n",
    "scores_train = stbf.transform(X_train).squeeze()\n",
    "sns.boxplot(x=y_train, y=scores_train)"
   ],
   "metadata": {
    "collapsed": false,
    "pycharm": {
     "name": "#%%\n"
    }
   }
  },
  {
   "cell_type": "code",
   "execution_count": 22,
   "outputs": [
    {
     "data": {
      "text/plain": "<AxesSubplot:>"
     },
     "execution_count": 22,
     "metadata": {},
     "output_type": "execute_result"
    },
    {
     "data": {
      "text/plain": "<Figure size 432x288 with 1 Axes>",
      "image/png": "[encoded data removed]"
     },
     "metadata": {
      "needs_background": "light"
     },
     "output_type": "display_data"
    }
   ],
   "source": [
    "scores_test = stbf.transform(X_test).squeeze()\n",
    "sns.boxplot(x=y_test, y=scores_test)"
   ],
   "metadata": {
    "collapsed": false,
    "pycharm": {
     "name": "#%%\n"
    }
   }
  }
 ],
 "metadata": {
  "kernelspec": {
   "display_name": "Python 3",
   "language": "python",
   "name": "python3"
  },
  "language_info": {
   "codemirror_mode": {
    "name": "ipython",
    "version": 2
   },
   "file_extension": ".py",
   "mimetype": "text/x-python",
   "name": "python",
   "nbconvert_exporter": "python",
   "pygments_lexer": "ipython2",
   "version": "2.7.6"
  }
 },
 "nbformat": 4,
 "nbformat_minor": 0
}