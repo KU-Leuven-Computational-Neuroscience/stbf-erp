{
 "cells": [
  {
   "cell_type": "code",
   "execution_count": 25,
   "outputs": [],
   "source": [
    "import os\n",
    "import mne\n",
    "import pandas as pd\n",
    "from mne_bids import BIDSPath\n",
    "\n",
    "bids_root = os.path.join(mne.get_config('MNE_DATA'), 'derivatives', 'mne-bids-pipeline', 'STBF-ERP_CORE')\n",
    "subject_paths = BIDSPath(root=bids_root, task='P3', datatype='eeg', processing='clean', suffix='epo', check=False)\n",
    "subject_paths = subject_paths.match()"
   ],
   "metadata": {
    "collapsed": false,
    "pycharm": {
     "name": "#%%\n"
    }
   }
  },
  {
   "cell_type": "code",
   "execution_count": 26,
   "outputs": [],
   "source": [
    "from decode.cov import FullCovariance, NonIterativeKroneckerCovariance\n",
    "from sklearn.pipeline import Pipeline\n",
    "from decode.stbf import LCMVBeamformer\n",
    "from decode.classifier import UnitVarianceChannelScaler\n",
    "from pyriemann.estimation import XdawnCovariances\n",
    "from pyriemann.tangentspace import TangentSpace\n",
    "from sklearn.linear_model import LogisticRegression\n",
    "from sklearn.impute import SimpleImputer\n",
    "import numpy as np\n",
    "\n",
    "stbf_struct = Pipeline([\n",
    "    ('scaler', UnitVarianceChannelScaler()),\n",
    "    ('bf', LCMVBeamformer(cov_estimator=NonIterativeKroneckerCovariance(shrinkage=('oas', 'oas')))),\n",
    "])\n",
    "\n",
    "stbf_shrunk = Pipeline([\n",
    "    ('scaler', UnitVarianceChannelScaler()),\n",
    "    ('bf', LCMVBeamformer(cov_estimator=FullCovariance(shrinkage='oas'))),\n",
    "])\n",
    "\n",
    "stbf_emp = Pipeline([\n",
    "    ('scaler', UnitVarianceChannelScaler()),\n",
    "    ('bf', LCMVBeamformer(cov_estimator=FullCovariance(shrinkage=False))),\n",
    "])\n",
    "\n",
    "xdawn_rg = Pipeline([\n",
    "    ('scaler', UnitVarianceChannelScaler()),\n",
    "    ('covariances', XdawnCovariances(nfilter=2, estimator='scm', xdawn_estimator='scm')),\n",
    "    ('riemann', TangentSpace(metric=\"riemann\")),\n",
    "    ('nan_to_zero', SimpleImputer(missing_values=np.nan, strategy='constant', fill_value=0)),\n",
    "    ('logit', LogisticRegression(class_weight='balanced'))\n",
    "])"
   ],
   "metadata": {
    "collapsed": false,
    "pycharm": {
     "name": "#%%\n"
    }
   }
  },
  {
   "cell_type": "code",
   "execution_count": 27,
   "outputs": [],
   "source": [
    "from sklearn.model_selection import KFold\n",
    "\n",
    "classifiers = {\n",
    "    'STBF-struct': stbf_struct,\n",
    "    'STBF-shrunk': stbf_shrunk,\n",
    "    'STBF-emp': stbf_emp,\n",
    "    'xDAWN+RG': xdawn_rg,\n",
    "}\n",
    "k = 5\n",
    "cv = KFold(n_splits=k, shuffle=False)\n",
    "scoring = ['roc_auc']\n",
    "metrics = pd.DataFrame()"
   ],
   "metadata": {
    "collapsed": false,
    "pycharm": {
     "name": "#%%\n"
    }
   }
  },
  {
   "cell_type": "code",
   "execution_count": 28,
   "outputs": [
    {
     "name": "stdout",
     "output_type": "stream",
     "text": [
      "[1/40] Subject 001 ...\n",
      "[2/40] Subject 002 ...\n",
      "[3/40] Subject 003 ...\n",
      "[4/40] Subject 004 ...\n",
      "[5/40] Subject 005 ...\n",
      "[6/40] Subject 006 ...\n",
      "[7/40] Subject 007 ...\n",
      "[8/40] Subject 008 ...\n",
      "[9/40] Subject 009 ...\n",
      "[10/40] Subject 010 ...\n",
      "[11/40] Subject 011 ...\n",
      "[12/40] Subject 012 ...\n",
      "[13/40] Subject 013 ...\n",
      "[14/40] Subject 014 ...\n",
      "[15/40] Subject 015 ...\n",
      "[16/40] Subject 016 ...\n",
      "[17/40] Subject 017 ...\n",
      "[18/40] Subject 018 ...\n",
      "[19/40] Subject 019 ...\n",
      "[20/40] Subject 020 ...\n",
      "[21/40] Subject 021 ...\n",
      "[22/40] Subject 022 ...\n",
      "[23/40] Subject 023 ...\n",
      "[24/40] Subject 024 ...\n",
      "[25/40] Subject 025 ...\n",
      "[26/40] Subject 026 ...\n",
      "[27/40] Subject 027 ...\n",
      "[28/40] Subject 028 ...\n",
      "[29/40] Subject 029 ...\n",
      "[30/40] Subject 030 ...\n",
      "[31/40] Subject 031 ...\n",
      "[32/40] Subject 032 ...\n",
      "[33/40] Subject 033 ...\n",
      "[34/40] Subject 034 ...\n",
      "[35/40] Subject 035 ...\n",
      "[36/40] Subject 036 ...\n",
      "[37/40] Subject 037 ...\n",
      "[38/40] Subject 038 ...\n",
      "[39/40] Subject 039 ...\n",
      "[40/40] Subject 040 ...\n"
     ]
    },
    {
     "data": {
      "text/plain": "     fit_time  score_time  test_roc_auc   classifier subject  fold\n0    0.046768    0.008053      0.468750  STBF-struct     001     0\n1    0.027034    0.003024      0.691406  STBF-struct     001     1\n2    0.062249    0.006063      0.851562  STBF-struct     001     2\n3    0.040904    0.003840      0.695312  STBF-struct     001     3\n4    0.038363    0.003844      0.710938  STBF-struct     001     4\n..        ...         ...           ...          ...     ...   ...\n795  0.211544    0.006901      0.433594     xDAWN+RG     040     0\n796  0.170694    0.006490      0.722656     xDAWN+RG     040     1\n797  0.158764    0.006393      0.699219     xDAWN+RG     040     2\n798  0.150950    0.007182      0.558594     xDAWN+RG     040     3\n799  0.158921    0.006871      0.640625     xDAWN+RG     040     4\n\n[800 rows x 6 columns]",
      "text/html": "<div>\n<style scoped>\n    .dataframe tbody tr th:only-of-type {\n        vertical-align: middle;\n    }\n\n    .dataframe tbody tr th {\n        vertical-align: top;\n    }\n\n    .dataframe thead th {\n        text-align: right;\n    }\n</style>\n<table border=\"1\" class=\"dataframe\">\n  <thead>\n    <tr style=\"text-align: right;\">\n      <th></th>\n      <th>fit_time</th>\n      <th>score_time</th>\n      <th>test_roc_auc</th>\n      <th>classifier</th>\n      <th>subject</th>\n      <th>fold</th>\n    </tr>\n  </thead>\n  <tbody>\n    <tr>\n      <th>0</th>\n      <td>0.046768</td>\n      <td>0.008053</td>\n      <td>0.468750</td>\n      <td>STBF-struct</td>\n      <td>001</td>\n      <td>0</td>\n    </tr>\n    <tr>\n      <th>1</th>\n      <td>0.027034</td>\n      <td>0.003024</td>\n      <td>0.691406</td>\n      <td>STBF-struct</td>\n      <td>001</td>\n      <td>1</td>\n    </tr>\n    <tr>\n      <th>2</th>\n      <td>0.062249</td>\n      <td>0.006063</td>\n      <td>0.851562</td>\n      <td>STBF-struct</td>\n      <td>001</td>\n      <td>2</td>\n    </tr>\n    <tr>\n      <th>3</th>\n      <td>0.040904</td>\n      <td>0.003840</td>\n      <td>0.695312</td>\n      <td>STBF-struct</td>\n      <td>001</td>\n      <td>3</td>\n    </tr>\n    <tr>\n      <th>4</th>\n      <td>0.038363</td>\n      <td>0.003844</td>\n      <td>0.710938</td>\n      <td>STBF-struct</td>\n      <td>001</td>\n      <td>4</td>\n    </tr>\n    <tr>\n      <th>...</th>\n      <td>...</td>\n      <td>...</td>\n      <td>...</td>\n      <td>...</td>\n      <td>...</td>\n      <td>...</td>\n    </tr>\n    <tr>\n      <th>795</th>\n      <td>0.211544</td>\n      <td>0.006901</td>\n      <td>0.433594</td>\n      <td>xDAWN+RG</td>\n      <td>040</td>\n      <td>0</td>\n    </tr>\n    <tr>\n      <th>796</th>\n      <td>0.170694</td>\n      <td>0.006490</td>\n      <td>0.722656</td>\n      <td>xDAWN+RG</td>\n      <td>040</td>\n      <td>1</td>\n    </tr>\n    <tr>\n      <th>797</th>\n      <td>0.158764</td>\n      <td>0.006393</td>\n      <td>0.699219</td>\n      <td>xDAWN+RG</td>\n      <td>040</td>\n      <td>2</td>\n    </tr>\n    <tr>\n      <th>798</th>\n      <td>0.150950</td>\n      <td>0.007182</td>\n      <td>0.558594</td>\n      <td>xDAWN+RG</td>\n      <td>040</td>\n      <td>3</td>\n    </tr>\n    <tr>\n      <th>799</th>\n      <td>0.158921</td>\n      <td>0.006871</td>\n      <td>0.640625</td>\n      <td>xDAWN+RG</td>\n      <td>040</td>\n      <td>4</td>\n    </tr>\n  </tbody>\n</table>\n<p>800 rows × 6 columns</p>\n</div>"
     },
     "execution_count": 28,
     "metadata": {},
     "output_type": "execute_result"
    }
   ],
   "source": [
    "from sklearn.model_selection import cross_validate\n",
    "\n",
    "for i, subject_path in enumerate(subject_paths):\n",
    "    print(f\"[{i+1}/{len(subject_paths)}] Subject {subject_path.subject} ...\")\n",
    "    epochs = mne.read_epochs(subject_path.fpath, verbose=0)\n",
    "    epochs.pick_types(eeg=True, eog=True)\n",
    "    epochs.drop_channels(['P9', 'P10'])\n",
    "    epochs.crop(tmin=0.1, tmax=0.6)\n",
    "    epochs.metadata['label'] = epochs.metadata['event_name'].str.startswith('stimulus/target')\n",
    "    y = epochs.metadata['event_name'].str.startswith('stimulus/target').values.astype(int)\n",
    "    X = epochs.get_data()\n",
    "    for classifier_model, classifier in classifiers.items():\n",
    "        metrics_arr = cross_validate(classifier, X, y, cv=cv, scoring=scoring)\n",
    "        metrics_df = pd.DataFrame(metrics_arr)\n",
    "        metrics_df['classifier'] = classifier_model\n",
    "        metrics_df['subject'] = subject_path.subject\n",
    "        metrics_df['fold'] = list(range(k))\n",
    "        metrics = metrics.append(metrics_df, ignore_index=True)\n",
    "metrics"
   ],
   "metadata": {
    "collapsed": false,
    "pycharm": {
     "name": "#%%\n"
    }
   }
  },
  {
   "cell_type": "code",
   "execution_count": 29,
   "outputs": [
    {
     "data": {
      "text/plain": "<AxesSubplot:xlabel='classifier', ylabel='test_roc_auc'>"
     },
     "execution_count": 29,
     "metadata": {},
     "output_type": "execute_result"
    },
    {
     "data": {
      "text/plain": "<Figure size 432x288 with 1 Axes>",
      "image/png": "[encoded data removed]"
     },
     "metadata": {
      "needs_background": "light"
     },
     "output_type": "display_data"
    }
   ],
   "source": [
    "import seaborn as sns\n",
    "\n",
    "sns.boxplot(data=metrics, x='classifier', y='test_roc_auc')"
   ],
   "metadata": {
    "collapsed": false,
    "pycharm": {
     "name": "#%%\n"
    }
   }
  },
  {
   "cell_type": "code",
   "execution_count": 30,
   "outputs": [
    {
     "data": {
      "text/plain": "<AxesSubplot:xlabel='classifier', ylabel='fit_time'>"
     },
     "execution_count": 30,
     "metadata": {},
     "output_type": "execute_result"
    },
    {
     "data": {
      "text/plain": "<Figure size 432x288 with 1 Axes>",
      "image/png": "[encoded data removed]"
     },
     "metadata": {
      "needs_background": "light"
     },
     "output_type": "display_data"
    }
   ],
   "source": [
    "sns.boxplot(data=metrics, x='classifier', y='fit_time')"
   ],
   "metadata": {
    "collapsed": false,
    "pycharm": {
     "name": "#%%\n"
    }
   }
  }
 ],
 "metadata": {
  "kernelspec": {
   "display_name": "Python 3",
   "language": "python",
   "name": "python3"
  },
  "language_info": {
   "codemirror_mode": {
    "name": "ipython",
    "version": 2
   },
   "file_extension": ".py",
   "mimetype": "text/x-python",
   "name": "python",
   "nbconvert_exporter": "python",
   "pygments_lexer": "ipython2",
   "version": "2.7.6"
  }
 },
 "nbformat": 4,
 "nbformat_minor": 0
}